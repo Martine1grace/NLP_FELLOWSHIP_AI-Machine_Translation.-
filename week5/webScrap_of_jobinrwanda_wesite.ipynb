{
  "nbformat": 4,
  "nbformat_minor": 0,
  "metadata": {
    "colab": {
      "provenance": [],
      "authorship_tag": "ABX9TyOHoA0B+Ya2DXy08awvl8mF",
      "include_colab_link": true
    },
    "kernelspec": {
      "name": "python3",
      "display_name": "Python 3"
    },
    "language_info": {
      "name": "python"
    }
  },
  "cells": [
    {
      "cell_type": "markdown",
      "metadata": {
        "id": "view-in-github",
        "colab_type": "text"
      },
      "source": [
        "<a href=\"https://colab.research.google.com/github/Martine1grace/NLP_FELLOWSHIP_AI-Machine_Translation.-/blob/main/week5/webScrap_of_jobinrwanda_wesite.ipynb\" target=\"_parent\"><img src=\"https://colab.research.google.com/assets/colab-badge.svg\" alt=\"Open In Colab\"/></a>"
      ]
    },
    {
      "cell_type": "code",
      "execution_count": 1,
      "metadata": {
        "id": "0KyI58_u-c30"
      },
      "outputs": [],
      "source": [
        "import re\n",
        "import requests"
      ]
    },
    {
      "cell_type": "code",
      "source": [
        "content_featured = requests.get('https://www.jobinrwanda.com').content "
      ],
      "metadata": {
        "id": "wJxlFzjn_jzE"
      },
      "execution_count": null,
      "outputs": []
    },
    {
      "cell_type": "code",
      "source": [
        "page_featured = BeautifulSoup(content_featured, 'html.parser')\n",
        "adverts_all = page_featured.find_all('div', class_='card-body p-2')"
      ],
      "metadata": {
        "id": "TwFjGP2z_j-y"
      },
      "execution_count": null,
      "outputs": []
    },
    {
      "cell_type": "code",
      "source": [
        "adverts_all[10].find_all('p')[0].find('span').getText()"
      ],
      "metadata": {
        "id": "88U4bMb7_kCJ"
      },
      "execution_count": null,
      "outputs": []
    },
    {
      "cell_type": "code",
      "source": [
        "import requests #Fetch HTML Pages from the Web\n",
        "from bs4 import BeautifulSoup #Extract information from HTML pages\n",
        "import pandas as pd #organise our data into tabular/tables"
      ],
      "metadata": {
        "id": "jcl17g-f_kFo"
      },
      "execution_count": null,
      "outputs": []
    },
    {
      "cell_type": "code",
      "source": [
        "#Fetch Website HTML content using request library\n",
        "content_jobs = requests.get('https://www.jobinrwanda.com').content #Jobss"
      ],
      "metadata": {
        "id": "zofLWHEo_kJA"
      },
      "execution_count": null,
      "outputs": []
    },
    {
      "cell_type": "code",
      "source": [
        "content_jobs #SHow the raw html content of jobs"
      ],
      "metadata": {
        "id": "FU94aY7r_kLo"
      },
      "execution_count": null,
      "outputs": []
    },
    {
      "cell_type": "code",
      "source": [
        "page = BeautifulSoup(content_jobs, 'html.parser')"
      ],
      "metadata": {
        "id": "U5DM6Wq8_kOb"
      },
      "execution_count": null,
      "outputs": []
    },
    {
      "cell_type": "code",
      "source": [
        "adverts = page.find_all('div', class_='card-body p-2')"
      ],
      "metadata": {
        "id": "mqPro23M_kRU"
      },
      "execution_count": null,
      "outputs": []
    },
    {
      "cell_type": "code",
      "source": [
        "adverts[0]"
      ],
      "metadata": {
        "id": "vZctyMXh_kUI"
      },
      "execution_count": null,
      "outputs": []
    },
    {
      "cell_type": "code",
      "source": [
        "text = adverts[0].find('p').getText()\n",
        "pub = text.split('\\n')"
      ],
      "metadata": {
        "id": "TaWfOzgQ_kW6"
      },
      "execution_count": null,
      "outputs": []
    },
    {
      "cell_type": "code",
      "source": [
        "pub[2]"
      ],
      "metadata": {
        "id": "-EAJ5DNc_kZ3"
      },
      "execution_count": null,
      "outputs": []
    },
    {
      "cell_type": "code",
      "source": [
        "adverts[0].find('span').getText() #Title of Each Job advert\n",
        "\n",
        "adverts[0].find('a')['href']  #Link to the content of each job title\n",
        "\n",
        "adverts[0].find('p').find('a')['href'] #Link to the Institution that has posted the advert\n",
        "\n",
        "adverts[0].find('p').find('a').getText() #This is the name of the company"
      ],
      "metadata": {
        "id": "5hFY8pZE_kc7"
      },
      "execution_count": null,
      "outputs": []
    },
    {
      "cell_type": "code",
      "source": [
        "df = pd.DataFrame(columns=['link', 'title', 'company_link', 'company', 'type'])\n",
        "# df['link'] = None\n",
        "# df['title'] = None\n",
        "# df['company_link'] = None\n",
        "# df['company'] = None\n",
        "# df['type'] = None"
      ],
      "metadata": {
        "id": "z6A-cUdP_kfs"
      },
      "execution_count": null,
      "outputs": []
    },
    {
      "cell_type": "code",
      "source": [
        "df"
      ],
      "metadata": {
        "id": "wgtM8m6T_kiv"
      },
      "execution_count": null,
      "outputs": []
    },
    {
      "cell_type": "code",
      "source": [
        "items = ['a', 'v', 'b']\n",
        "for position, item in enumerate(items):\n",
        "  print('My index is',position,'And letter is', item)\n",
        "\n",
        "#Short INtro to Enumerate"
      ],
      "metadata": {
        "id": "PDbH3I6O_klp"
      },
      "execution_count": null,
      "outputs": []
    },
    {
      "cell_type": "code",
      "source": [
        "adverts[0].find('p').find('span').getText()"
      ],
      "metadata": {
        "id": "VMagUoPZ_koi"
      },
      "execution_count": null,
      "outputs": []
    },
    {
      "cell_type": "code",
      "source": [
        "def parse_content(adverts):\n",
        "  link = []\n",
        "  title = []\n",
        "  company = []\n",
        "  company_link = []\n",
        "  job_type = []\n",
        "  for item in adverts:\n",
        "    dlink = 'https://www.jobinrwanda.com' +  item.find('a')['href']\n",
        "    link.append(dlink)\n",
        "\n",
        "    title.append(item.find('span').getText()) #GEt the title from\n",
        "\n",
        "    company.append(item.find('p').find('a').getText())\n",
        "\n",
        "    company_link.append(item.find('p').find('a'))\n",
        "\n",
        "    job_type.append(item.find('p').find('span').text) #Whether its a job/consultacy/tender\n",
        "  return link, title, company, company_link, job_type"
      ],
      "metadata": {
        "id": "f3pzUX8x_kr-"
      },
      "execution_count": null,
      "outputs": []
    },
    {
      "cell_type": "code",
      "source": [
        "#Jobs Advert\n",
        "\n",
        "content_jobs = requests.get('https://www.jobinrwanda.com').content #Jobss\n",
        "\n",
        "content_jobs_bs = BeautifulSoup(content_jobs, 'html.parser')\n",
        "\n",
        "content_jobs_titles = content_jobs_bs.find_all('div', class_='card-body p-2') #Getting each title\n",
        "\n",
        "df['link'], df['title'], df['company'], df['company_link'], df['type']= parse_content(content_jobs_titles)"
      ],
      "metadata": {
        "id": "VbKPz9kH_kur"
      },
      "execution_count": null,
      "outputs": []
    },
    {
      "cell_type": "code",
      "source": [
        "df"
      ],
      "metadata": {
        "id": "TPWGd19p_kxe"
      },
      "execution_count": null,
      "outputs": []
    },
    {
      "cell_type": "code",
      "source": [
        "dlink"
      ],
      "metadata": {
        "id": "aoqAJDQ__k0R"
      },
      "execution_count": null,
      "outputs": []
    },
    {
      "cell_type": "code",
      "source": [
        "job_description_raw_content = requests.get('https://www.jobinrwanda.com/job/global-remote-sensing-manager').content"
      ],
      "metadata": {
        "id": "Qjmw-Cg5_k3K"
      },
      "execution_count": null,
      "outputs": []
    },
    {
      "cell_type": "code",
      "source": [
        "job_description_raw_content"
      ],
      "metadata": {
        "id": "ZOIrsoTL_k6g"
      },
      "execution_count": null,
      "outputs": []
    },
    {
      "cell_type": "code",
      "source": [
        "job_description_bs = BeautifulSoup(job_description_raw_content, 'html.parser')"
      ],
      "metadata": {
        "id": "VtR6nT-V_k9I"
      },
      "execution_count": null,
      "outputs": []
    },
    {
      "cell_type": "code",
      "source": [
        "job_description_bs.find_all('div', class_='employer-description') #Employer Description"
      ],
      "metadata": {
        "id": "r_BDng5U_k_4"
      },
      "execution_count": null,
      "outputs": []
    },
    {
      "cell_type": "code",
      "source": [
        "describe = job_description_bs.find_all('div', class_=\"clearfix text-formatted field field--name-field-job-full-description field--type-text-long field--label-hidden field__item\") #Employer Description"
      ],
      "metadata": {
        "id": "_dqjBb75_lC0"
      },
      "execution_count": null,
      "outputs": []
    },
    {
      "cell_type": "code",
      "source": [
        "df['description'] = ''\n",
        "df['employeer_description'] = ''"
      ],
      "metadata": {
        "id": "k0pdDWdZClW7"
      },
      "execution_count": null,
      "outputs": []
    },
    {
      "cell_type": "code",
      "source": [
        "def get_description(job_link):\n",
        "  job_description_raw_content = requests.get(job_link).content #request raw content\n",
        "\n",
        "  job_description_bs = BeautifulSoup(job_description_raw_content, 'html.parser')  #pass the html raw content to beautifull soup\n",
        "  \n",
        "  employeer_description = job_description_bs.find_all('div', class_='employer-description') #Employer Description\n",
        "  #Get the entire job description\n",
        "  \n",
        "  describe = job_description_bs.find_all('div', class_=\"clearfix text-formatted field field--name-field-job-full-description field--type-text-long field--label-hidden field__item\") #Employer Description\n",
        "  \n",
        "  return describe, employeer_description"
      ],
      "metadata": {
        "id": "fhO-snFRCliG"
      },
      "execution_count": null,
      "outputs": []
    },
    {
      "cell_type": "code",
      "source": [
        "description = []\n",
        "employer = []\n",
        "for position, link in enumerate(df['link']):\n",
        "  description_, employeer_  = get_description(job_link=link)\n",
        "  employer.append(employeer_)\n",
        "  description.append(description_)"
      ],
      "metadata": {
        "id": "rAO6HXElClp5"
      },
      "execution_count": null,
      "outputs": []
    },
    {
      "cell_type": "code",
      "source": [
        "description[30][0].getText()"
      ],
      "metadata": {
        "id": "dZxNkw1fClxZ"
      },
      "execution_count": null,
      "outputs": []
    },
    {
      "cell_type": "code",
      "source": [
        "employer[30][0].getText()"
      ],
      "metadata": {
        "id": "iPGRkAB1Cl3r"
      },
      "execution_count": null,
      "outputs": []
    },
    {
      "cell_type": "code",
      "source": [
        "len(employer)"
      ],
      "metadata": {
        "id": "zV3-6mdd_lFs"
      },
      "execution_count": null,
      "outputs": []
    },
    {
      "cell_type": "code",
      "source": [
        "for row in range(len(df)):\n",
        "  try:\n",
        "    df.loc[row]['description'] = description[row][0].getText()\n",
        "    df.loc[row]['employeer_description'] = employer[row][0].getText()\n",
        "  except IndexError:\n",
        "    df.loc[row]['employeer_description'] = ''"
      ],
      "metadata": {
        "id": "Cd2xsUbqC8EA"
      },
      "execution_count": null,
      "outputs": []
    },
    {
      "cell_type": "code",
      "source": [
        "df.iloc[1]['description']"
      ],
      "metadata": {
        "id": "ogtCdDk5C8Gw"
      },
      "execution_count": null,
      "outputs": []
    },
    {
      "cell_type": "code",
      "source": [
        "df"
      ],
      "metadata": {
        "id": "NZigL3FuC8Jm"
      },
      "execution_count": null,
      "outputs": []
    },
    {
      "cell_type": "code",
      "source": [
        "IT_keywords = [\"information technology\", \"technology\", \"computer\", \"IT support\", \"database\", \"programming\", \"cybersecurity\", \"cloud\", \"software\"]\n",
        "IT_pattern = \"|\".join(IT_keywords)"
      ],
      "metadata": {
        "id": "G1j0c32gC8Mc"
      },
      "execution_count": null,
      "outputs": []
    },
    {
      "cell_type": "code",
      "source": [
        "IT_pattern"
      ],
      "metadata": {
        "id": "j3C2TES3C8Pt"
      },
      "execution_count": null,
      "outputs": []
    },
    {
      "cell_type": "code",
      "source": [
        "# create new column\n",
        "df['is IT'] = False\n",
        "df['found keywords'] = None"
      ],
      "metadata": {
        "id": "JurW6GkbC8SO"
      },
      "execution_count": null,
      "outputs": []
    },
    {
      "cell_type": "code",
      "source": [
        "# change the entire description into lowercase\n",
        "df['description'] = df['description'].str.lower()"
      ],
      "metadata": {
        "id": "OLVx52rRC8Ve"
      },
      "execution_count": null,
      "outputs": []
    },
    {
      "cell_type": "code",
      "source": [
        "desc = df.iloc[2][\"description\"]\n",
        "desc"
      ],
      "metadata": {
        "id": "x4mFpIJ3C8ZB"
      },
      "execution_count": null,
      "outputs": []
    },
    {
      "cell_type": "code",
      "source": [
        "found = re.findall(IT_pattern, desc)\n",
        "print(\"found IT keywords: \", found)"
      ],
      "metadata": {
        "id": "ulrcua8y_lJT"
      },
      "execution_count": null,
      "outputs": []
    },
    {
      "cell_type": "code",
      "source": [
        "for row in range(len(df)):\n",
        "  if len(set(re.findall(IT_pattern, df.iloc[row]['description']))) >= 3:\n",
        "    df['is IT'][row] = True\n",
        "    df['found keywords'][row] = sorted(set(re.findall(IT_pattern, df.iloc[row]['description'])))"
      ],
      "metadata": {
        "id": "pRy-0-pVDX2X"
      },
      "execution_count": null,
      "outputs": []
    },
    {
      "cell_type": "code",
      "source": [
        "df.tail(10)"
      ],
      "metadata": {
        "id": "LyAx35TVDX6E"
      },
      "execution_count": null,
      "outputs": []
    },
    {
      "cell_type": "code",
      "source": [
        "df_it = df[df['is IT'] == True]"
      ],
      "metadata": {
        "id": "EQvPNOjYDX9P"
      },
      "execution_count": null,
      "outputs": []
    },
    {
      "cell_type": "code",
      "source": [
        "tags = \"#informationtechnology #technology #it #cybersecurity #tech #computerscience #programming #business #coding #innovation #software #python #information #computer #informationsecurity #security #technologynews #java #networking #hacking #programmer #linux #technologyrocks #coder #technologythesedays #cloudcomputing #education #engineering #itservices #newtechnology\""
      ],
      "metadata": {
        "id": "xp8qwrY5DX_j"
      },
      "execution_count": null,
      "outputs": []
    },
    {
      "cell_type": "code",
      "source": [
        "tags.split('#')"
      ],
      "metadata": {
        "id": "3amdY-YpDYDF"
      },
      "execution_count": null,
      "outputs": []
    },
    {
      "cell_type": "code",
      "source": [
        "df_it = df[df['is IT'] == True]"
      ],
      "metadata": {
        "id": "1i_FlxYuDYVi"
      },
      "execution_count": null,
      "outputs": []
    },
    {
      "cell_type": "code",
      "source": [
        "df_it"
      ],
      "metadata": {
        "id": "t_cKoxZmDYZB"
      },
      "execution_count": null,
      "outputs": []
    },
    {
      "cell_type": "code",
      "source": [
        "!pip install -U easynmt "
      ],
      "metadata": {
        "id": "aRrj289zFGSh"
      },
      "execution_count": null,
      "outputs": []
    },
    {
      "cell_type": "code",
      "source": [
        "!pip install fastapi pyngrok uvicorn nest-asyncio"
      ],
      "metadata": {
        "id": "wDjfJukNFGWG"
      },
      "execution_count": null,
      "outputs": []
    },
    {
      "cell_type": "code",
      "source": [
        "!ngrok authtoken 1VG7hGOGCl7R9CJANekYvuY3ZZA_5QGcuAoAPW4FUF9jW1LHY"
      ],
      "metadata": {
        "id": "jL3C5m5SFGey"
      },
      "execution_count": null,
      "outputs": []
    },
    {
      "cell_type": "code",
      "source": [],
      "metadata": {
        "id": "0OF5ZC3rFT6u"
      },
      "execution_count": null,
      "outputs": []
    },
    {
      "cell_type": "code",
      "source": [
        "# importing libraries \n",
        "from fastapi import FastAPI\n",
        "from easynmt import EasyNMT\n",
        "model = EasyNMT('opus-mt')"
      ],
      "metadata": {
        "id": "1UaLv7CNDuxk"
      },
      "execution_count": null,
      "outputs": []
    },
    {
      "cell_type": "code",
      "source": [
        "d = {\"Abkhaz\": \"ab\",\n",
        " \"Afar\": \"aa\",\n",
        " \"Afrikaans\": \"af\",\n",
        " \"Akan\": \"ak\",\n",
        " \"Albanian\": \"sq\",\n",
        " \"Amharic\": \"am\",\n",
        " \"Arabic\": \"ar\",\n",
        " \"Aragonese\": \"an\",\n",
        " \"Armenian\": \"hy\",\n",
        " \"Assamese\": \"as\",\n",
        " \"Avaric\": \"av\",\n",
        " \"Avestan\": \"ae\",\n",
        " \"Aymara\": \"ay\",\n",
        " \"Azerbaijani\": \"az\",\n",
        " \"Bambara\": \"bm\",\n",
        " \"Bashkir\": \"ba\",\n",
        " \"Basque\": \"eu\",\n",
        " \"Belarusian\": \"be\",\n",
        " \"Bengali\": \"bn\",\n",
        " \"Bihari\": \"bh\",\n",
        " \"Bislama\": \"bi\",\n",
        " \"Bosnian\": \"bs\",\n",
        " \"Breton\": \"br\",\n",
        " \"Bulgarian\": \"bg\",\n",
        " \"Burmese\": \"my\",\n",
        " \"Catalan; Valencian\": \"ca\",\n",
        " \"Chamorro\": \"ch\",\n",
        " \"Chechen\": \"ce\",\n",
        " \"Chichewa; Chewa; Nyanja\": \"ny\",\n",
        " \"Chinese\": \"zh\",\n",
        " \"Chuvash\": \"cv\",\n",
        " \"Cornish\": \"kw\",\n",
        " \"Corsican\": \"co\",\n",
        " \"Cree\": \"cr\",\n",
        " \"Croatian\": \"hr\",\n",
        " \"Czech\": \"cs\",\n",
        " \"Danish\": \"da\",\n",
        " \"Divehi; Dhivehi; Maldivian;\": \"dv\",\n",
        " \"Dutch\": \"nl\",\n",
        " \"English\": \"en\",\n",
        " \"Esperanto\": \"eo\",\n",
        " \"Estonian\": \"et\",\n",
        " \"Ewe\": \"ee\",\n",
        " \"Faroese\": \"fo\",\n",
        " \"Fijian\": \"fj\",\n",
        " \"Finnish\": \"fi\",\n",
        " \"French\": \"fr\",\n",
        " \"Fula; Fulah; Pulaar; Pular\": \"ff\",\n",
        " \"Galician\": \"gl\",\n",
        " \"Georgian\": \"ka\",\n",
        " \"German\": \"de\",\n",
        " \"Greek, Modern\": \"el\",\n",
        " \"Guaraní\": \"gn\",\n",
        " \"Gujarati\": \"gu\",\n",
        " \"Haitian; Haitian Creole\": \"ht\",\n",
        " \"Hausa\": \"ha\",\n",
        " \"Hebrew (modern)\": \"he\",\n",
        " \"Herero\": \"hz\",\n",
        " \"Hindi\": \"hi\",\n",
        " \"Hiri Motu\": \"ho\",\n",
        " \"Hungarian\": \"hu\",\n",
        " \"Interlingua\": \"ia\",\n",
        " \"Indonesian\": \"id\",\n",
        " \"Interlingue\": \"ie\",\n",
        " \"Irish\": \"ga\",\n",
        " \"Igbo\": \"ig\",\n",
        " \"Inupiaq\": \"ik\",\n",
        " \"Ido\": \"io\",\n",
        " \"Icelandic\": \"is\",\n",
        " \"Italian\": \"it\",\n",
        " \"Inuktitut\": \"iu\",\n",
        " \"Japanese\": \"ja\",\n",
        " \"Javanese\": \"jv\",\n",
        " \"Kalaallisut, Greenlandic\": \"kl\",\n",
        " \"Kannada\": \"kn\",\n",
        " \"Kanuri\": \"kr\",\n",
        " \"Kashmiri\": \"ks\",\n",
        " \"Kazakh\": \"kk\",\n",
        " \"Khmer\": \"km\",\n",
        " \"Kikuyu, Gikuyu\": \"ki\",\n",
        " \"Kinyarwanda\": \"rw\",\n",
        " \"Kirghiz, Kyrgyz\": \"ky\",\n",
        " \"Komi\": \"kv\",\n",
        " \"Kongo\": \"kg\",\n",
        " \"Korean\": \"ko\",\n",
        " \"Kurdish\": \"ku\",\n",
        " \"Kwanyama, Kuanyama\": \"kj\",\n",
        " \"Latin\": \"la\",\n",
        " \"Luxembourgish, Letzeburgesch\": \"lb\",\n",
        " \"Luganda\": \"lg\",\n",
        " \"Limburgish, Limburgan, Limburger\": \"li\",\n",
        " \"Lingala\": \"ln\",\n",
        " \"Lao\": \"lo\",\n",
        " \"Lithuanian\": \"lt\",\n",
        " \"Luba-Katanga\": \"lu\",\n",
        " \"Latvian\": \"lv\",\n",
        " \"Manx\": \"gv\",\n",
        " \"Macedonian\": \"mk\",\n",
        " \"Malagasy\": \"mg\",\n",
        " \"Malay\": \"ms\",\n",
        " \"Malayalam\": \"ml\",\n",
        " \"Maltese\": \"mt\",\n",
        " \"Māori\": \"mi\",\n",
        " \"Marathi (Marāṭhī)\": \"mr\",\n",
        " \"Marshallese\": \"mh\",\n",
        " \"Mongolian\": \"mn\",\n",
        " \"Nauru\": \"na\",\n",
        " \"Navajo, Navaho\": \"nv\",\n",
        " \"Norwegian Bokmål\": \"nb\",\n",
        " \"North Ndebele\": \"nd\",\n",
        " \"Nepali\": \"ne\",\n",
        " \"Ndonga\": \"ng\",\n",
        " \"Norwegian Nynorsk\": \"nn\",\n",
        " \"Norwegian\": \"no\",\n",
        " \"Nuosu\": \"ii\",\n",
        " \"South Ndebele\": \"nr\",\n",
        " \"Occitan\": \"oc\",\n",
        " \"Ojibwe, Ojibwa\": \"oj\",\n",
        " \"Old Church Slavonic, Church Slavic, Church Slavonic, Old Bulgarian, Old Slavonic\": \"cu\",\n",
        " \"Oromo\": \"om\",\n",
        " \"Oriya\": \"or\",\n",
        " \"Ossetian, Ossetic\": \"os\",\n",
        " \"Panjabi, Punjabi\": \"pa\",\n",
        " \"Pāli\": \"pi\",\n",
        " \"Persian\": \"fa\",\n",
        " \"Polish\": \"pl\",\n",
        " \"Pashto, Pushto\": \"ps\",\n",
        " \"Portuguese\": \"pt\",\n",
        " \"Quechua\": \"qu\",\n",
        " \"Romansh\": \"rm\",\n",
        " \"Kirundi\": \"rn\",\n",
        " \"Romanian, Moldavian, Moldovan\": \"ro\",\n",
        " \"Russian\": \"ru\",\n",
        " \"Sanskrit (Saṁskṛta)\": \"sa\",\n",
        " \"Sardinian\": \"sc\",\n",
        " \"Sindhi\": \"sd\",\n",
        " \"Northern Sami\": \"se\",\n",
        " \"Samoan\": \"sm\",\n",
        " \"Sango\": \"sg\",\n",
        " \"Serbian\": \"sr\",\n",
        " \"Scottish Gaelic; Gaelic\": \"gd\",\n",
        " \"Shona\": \"sn\",\n",
        " \"Sinhala, Sinhalese\": \"si\",\n",
        " \"Slovak\": \"sk\",\n",
        " \"Slovene\": \"sl\",\n",
        " \"Somali\": \"so\",\n",
        " \"Southern Sotho\": \"st\",\n",
        " \"Spanish; Castilian\": \"es\",\n",
        " \"Sundanese\": \"su\",\n",
        " \"Swahili\": \"sw\",\n",
        " \"Swati\": \"ss\",\n",
        " \"Swedish\": \"sv\",\n",
        " \"Tamil\": \"ta\",\n",
        " \"Telugu\": \"te\",\n",
        " \"Tajik\": \"tg\",\n",
        " \"Thai\": \"th\",\n",
        " \"Tigrinya\": \"ti\",\n",
        " \"Tibetan Standard, Tibetan, Central\": \"bo\",\n",
        " \"Turkmen\": \"tk\",\n",
        " \"Tagalog\": \"tl\",\n",
        " \"Tswana\": \"tn\",\n",
        " \"Tonga (Tonga Islands)\": \"to\",\n",
        " \"Turkish\": \"tr\",\n",
        " \"Tsonga\": \"ts\",\n",
        " \"Tatar\": \"tt\",\n",
        " \"Twi\": \"tw\",\n",
        " \"Tahitian\": \"ty\",\n",
        " \"Uighur, Uyghur\": \"ug\",\n",
        " \"Ukrainian\": \"uk\",\n",
        " \"Urdu\": \"ur\",\n",
        " \"Uzbek\": \"uz\",\n",
        " \"Venda\": \"ve\",\n",
        " \"Vietnamese\": \"vi\",\n",
        " \"Volapük\": \"vo\",\n",
        " \"Walloon\": \"wa\",\n",
        " \"Welsh\": \"cy\",\n",
        " \"Wolof\": \"wo\",\n",
        " \"Western Frisian\": \"fy\",\n",
        " \"Xhosa\": \"xh\",\n",
        " \"Yiddish\": \"yi\",\n",
        " \"Yoruba\": \"yo\",\n",
        " \"Zhuang, Chuang\": \"za\"}"
      ],
      "metadata": {
        "id": "EACu5YSsFT-A"
      },
      "execution_count": null,
      "outputs": []
    },
    {
      "cell_type": "code",
      "source": [
        "app = FastAPI(title =\"hackathon\")\n",
        "\n",
        "@app.get('/')\n",
        "def index():\n",
        "  return \"message\"\n",
        "\n",
        "@app.get('/data/jobinrwanda')\n",
        "def get_data(language:str = None):\n",
        "  df_copy =  df_it.copy()\n",
        "  try:\n",
        "    if language:\n",
        "      df_copy['title'] = model.translate(df_copy['title'],target_lang = d[language.title()])\n",
        "      return df_copy.to_dict('r')\n",
        "\n",
        "    else:\n",
        "      return df_copy.to_dict('r')\n",
        "\n",
        "  except:\n",
        "    message = f\"language is not available, please use one of the language {list(d.keys())}\"\n",
        "    return message"
      ],
      "metadata": {
        "id": "HhpKgAbAFUBP"
      },
      "execution_count": null,
      "outputs": []
    },
    {
      "cell_type": "code",
      "source": [
        "import nest_asyncio\n",
        "from pyngrok import ngrok\n",
        "import uvicorn\n",
        "\n",
        "ngrok_tunnel = ngrok.connect(8000)\n",
        "print(\"REST API started\")\n",
        "print(\"Your public API URL:\", ngrok_tunnel.public_url)\n",
        "print(\"You can for example open the following URL in your browser: {}?target_lang=en&text=Hallo%20Welt\".format(ngrok_tunnel.public_url))\n",
        "\n",
        "nest_asyncio.apply()\n",
        "uvicorn.run(app, port=8000)"
      ],
      "metadata": {
        "id": "RsMnV0YZFUEV"
      },
      "execution_count": null,
      "outputs": []
    },
    {
      "cell_type": "code",
      "source": [
        "!pkill ngrok"
      ],
      "metadata": {
        "id": "7Rrt8Vs-FUHF"
      },
      "execution_count": null,
      "outputs": []
    },
    {
      "cell_type": "code",
      "source": [
        "print('bajo afite imyaka {}'.format(19))"
      ],
      "metadata": {
        "id": "G6DYul4wFUJi"
      },
      "execution_count": null,
      "outputs": []
    },
    {
      "cell_type": "code",
      "source": [
        "d = {\"Abkhaz\": \"ab\",\n",
        " \"Afar\": \"aa\",\n",
        " \"Afrikaans\": \"af\",\n",
        " \"Akan\": \"ak\",\n",
        " \"Albanian\": \"sq\",\n",
        " \"Amharic\": \"am\",\n",
        " \"Arabic\": \"ar\",\n",
        " \"Aragonese\": \"an\",\n",
        " \"Armenian\": \"hy\",\n",
        " \"Assamese\": \"as\",\n",
        " \"Avaric\": \"av\",\n",
        " \"Avestan\": \"ae\",\n",
        " \"Aymara\": \"ay\",\n",
        " \"Azerbaijani\": \"az\",\n",
        " \"Bambara\": \"bm\",\n",
        " \"Bashkir\": \"ba\",\n",
        " \"Basque\": \"eu\",\n",
        " \"Belarusian\": \"be\",\n",
        " \"Bengali\": \"bn\",\n",
        " \"Bihari\": \"bh\",\n",
        " \"Bislama\": \"bi\",\n",
        " \"Bosnian\": \"bs\",\n",
        " \"Breton\": \"br\",\n",
        " \"Bulgarian\": \"bg\",\n",
        " \"Burmese\": \"my\",\n",
        " \"Catalan; Valencian\": \"ca\",\n",
        " \"Chamorro\": \"ch\",\n",
        " \"Chechen\": \"ce\",\n",
        " \"Chichewa; Chewa; Nyanja\": \"ny\",\n",
        " \"Chinese\": \"zh\",\n",
        " \"Chuvash\": \"cv\",\n",
        " \"Cornish\": \"kw\",\n",
        " \"Corsican\": \"co\",\n",
        " \"Cree\": \"cr\",\n",
        " \"Croatian\": \"hr\",\n",
        " \"Czech\": \"cs\",\n",
        " \"Danish\": \"da\",\n",
        " \"Divehi; Dhivehi; Maldivian;\": \"dv\",\n",
        " \"Dutch\": \"nl\",\n",
        " \"English\": \"en\",\n",
        " \"Esperanto\": \"eo\",\n",
        " \"Estonian\": \"et\",\n",
        " \"Ewe\": \"ee\",\n",
        " \"Faroese\": \"fo\",\n",
        " \"Fijian\": \"fj\",\n",
        " \"Finnish\": \"fi\",\n",
        " \"French\": \"fr\",\n",
        " \"Fula; Fulah; Pulaar; Pular\": \"ff\",\n",
        " \"Galician\": \"gl\",\n",
        " \"Georgian\": \"ka\",\n",
        " \"German\": \"de\",\n",
        " \"Greek, Modern\": \"el\",\n",
        " \"Guaraní\": \"gn\",\n",
        " \"Gujarati\": \"gu\",\n",
        " \"Haitian; Haitian Creole\": \"ht\",\n",
        " \"Hausa\": \"ha\",\n",
        " \"Hebrew (modern)\": \"he\",\n",
        " \"Herero\": \"hz\",\n",
        " \"Hindi\": \"hi\",\n",
        " \"Hiri Motu\": \"ho\",\n",
        " \"Hungarian\": \"hu\",\n",
        " \"Interlingua\": \"ia\",\n",
        " \"Indonesian\": \"id\",\n",
        " \"Interlingue\": \"ie\",\n",
        " \"Irish\": \"ga\",\n",
        " \"Igbo\": \"ig\",\n",
        " \"Inupiaq\": \"ik\",\n",
        " \"Ido\": \"io\",\n",
        " \"Icelandic\": \"is\",\n",
        " \"Italian\": \"it\",\n",
        " \"Inuktitut\": \"iu\",\n",
        " \"Japanese\": \"ja\",\n",
        " \"Javanese\": \"jv\",\n",
        " \"Kalaallisut, Greenlandic\": \"kl\",\n",
        " \"Kannada\": \"kn\",\n",
        " \"Kanuri\": \"kr\",\n",
        " \"Kashmiri\": \"ks\",\n",
        " \"Kazakh\": \"kk\",\n",
        " \"Khmer\": \"km\",\n",
        " \"Kikuyu, Gikuyu\": \"ki\",\n",
        " \"Kinyarwanda\": \"rw\",\n",
        " \"Kirghiz, Kyrgyz\": \"ky\",\n",
        " \"Komi\": \"kv\",\n",
        " \"Kongo\": \"kg\",\n",
        " \"Korean\": \"ko\",\n",
        " \"Kurdish\": \"ku\",\n",
        " \"Kwanyama, Kuanyama\": \"kj\",\n",
        " \"Latin\": \"la\",\n",
        " \"Luxembourgish, Letzeburgesch\": \"lb\",\n",
        " \"Luganda\": \"lg\",\n",
        " \"Limburgish, Limburgan, Limburger\": \"li\",\n",
        " \"Lingala\": \"ln\",\n",
        " \"Lao\": \"lo\",\n",
        " \"Lithuanian\": \"lt\",\n",
        " \"Luba-Katanga\": \"lu\",\n",
        " \"Latvian\": \"lv\",\n",
        " \"Manx\": \"gv\",\n",
        " \"Macedonian\": \"mk\",\n",
        " \"Malagasy\": \"mg\",\n",
        " \"Malay\": \"ms\",\n",
        " \"Malayalam\": \"ml\",\n",
        " \"Maltese\": \"mt\",\n",
        " \"Māori\": \"mi\",\n",
        " \"Marathi (Marāṭhī)\": \"mr\",\n",
        " \"Marshallese\": \"mh\",\n",
        " \"Mongolian\": \"mn\",\n",
        " \"Nauru\": \"na\",\n",
        " \"Navajo, Navaho\": \"nv\",\n",
        " \"Norwegian Bokmål\": \"nb\",\n",
        " \"North Ndebele\": \"nd\",\n",
        " \"Nepali\": \"ne\",\n",
        " \"Ndonga\": \"ng\",\n",
        " \"Norwegian Nynorsk\": \"nn\",\n",
        " \"Norwegian\": \"no\",\n",
        " \"Nuosu\": \"ii\",\n",
        " \"South Ndebele\": \"nr\",\n",
        " \"Occitan\": \"oc\",\n",
        " \"Ojibwe, Ojibwa\": \"oj\",\n",
        " \"Old Church Slavonic, Church Slavic, Church Slavonic, Old Bulgarian, Old Slavonic\": \"cu\",\n",
        " \"Oromo\": \"om\",\n",
        " \"Oriya\": \"or\",\n",
        " \"Ossetian, Ossetic\": \"os\",\n",
        " \"Panjabi, Punjabi\": \"pa\",\n",
        " \"Pāli\": \"pi\",\n",
        " \"Persian\": \"fa\",\n",
        " \"Polish\": \"pl\",\n",
        " \"Pashto, Pushto\": \"ps\",\n",
        " \"Portuguese\": \"pt\",\n",
        " \"Quechua\": \"qu\",\n",
        " \"Romansh\": \"rm\",\n",
        " \"Kirundi\": \"rn\",\n",
        " \"Romanian, Moldavian, Moldovan\": \"ro\",\n",
        " \"Russian\": \"ru\",\n",
        " \"Sanskrit (Saṁskṛta)\": \"sa\",\n",
        " \"Sardinian\": \"sc\",\n",
        " \"Sindhi\": \"sd\",\n",
        " \"Northern Sami\": \"se\",\n",
        " \"Samoan\": \"sm\",\n",
        " \"Sango\": \"sg\",\n",
        " \"Serbian\": \"sr\",\n",
        " \"Scottish Gaelic; Gaelic\": \"gd\",\n",
        " \"Shona\": \"sn\",\n",
        " \"Sinhala, Sinhalese\": \"si\",\n",
        " \"Slovak\": \"sk\",\n",
        " \"Slovene\": \"sl\",\n",
        " \"Somali\": \"so\",\n",
        " \"Southern Sotho\": \"st\",\n",
        " \"Spanish; Castilian\": \"es\",\n",
        " \"Sundanese\": \"su\",\n",
        " \"Swahili\": \"sw\",\n",
        " \"Swati\": \"ss\",\n",
        " \"Swedish\": \"sv\",\n",
        " \"Tamil\": \"ta\",\n",
        " \"Telugu\": \"te\",\n",
        " \"Tajik\": \"tg\",\n",
        " \"Thai\": \"th\",\n",
        " \"Tigrinya\": \"ti\",\n",
        " \"Tibetan Standard, Tibetan, Central\": \"bo\",\n",
        " \"Turkmen\": \"tk\",\n",
        " \"Tagalog\": \"tl\",\n",
        " \"Tswana\": \"tn\",\n",
        " \"Tonga (Tonga Islands)\": \"to\",\n",
        " \"Turkish\": \"tr\",\n",
        " \"Tsonga\": \"ts\",\n",
        " \"Tatar\": \"tt\",\n",
        " \"Twi\": \"tw\",\n",
        " \"Tahitian\": \"ty\",\n",
        " \"Uighur, Uyghur\": \"ug\",\n",
        " \"Ukrainian\": \"uk\",\n",
        " \"Urdu\": \"ur\",\n",
        " \"Uzbek\": \"uz\",\n",
        " \"Venda\": \"ve\",\n",
        " \"Vietnamese\": \"vi\",\n",
        " \"Volapük\": \"vo\",\n",
        " \"Walloon\": \"wa\",\n",
        " \"Welsh\": \"cy\",\n",
        " \"Wolof\": \"wo\",\n",
        " \"Western Frisian\": \"fy\",\n",
        " \"Xhosa\": \"xh\",\n",
        " \"Yiddish\": \"yi\",\n",
        " \"Yoruba\": \"yo\",\n",
        " \"Zhuang, Chuang\": \"za\"}"
      ],
      "metadata": {
        "id": "liTixIHTFUM8"
      },
      "execution_count": null,
      "outputs": []
    },
    {
      "cell_type": "code",
      "source": [
        "list_of_keys = list()\n",
        "for keys,values in d.items():\n",
        "  list_of_keys.append(keys)"
      ],
      "metadata": {
        "id": "iJqOWQCdGaEM"
      },
      "execution_count": null,
      "outputs": []
    },
    {
      "cell_type": "code",
      "source": [
        "keys_ = [keys for keys,values in d.items()]"
      ],
      "metadata": {
        "id": "Ztr2MRmAGaPQ"
      },
      "execution_count": null,
      "outputs": []
    },
    {
      "cell_type": "code",
      "source": [
        "a = list(d.keys())\n",
        "print(a)"
      ],
      "metadata": {
        "id": "IC37qHKQGaSm"
      },
      "execution_count": null,
      "outputs": []
    },
    {
      "cell_type": "code",
      "source": [
        "a = 'KINYARwANdA'\n",
        "B = a.title()\n",
        "print(B)"
      ],
      "metadata": {
        "id": "B8iFnErDGaVv"
      },
      "execution_count": null,
      "outputs": []
    },
    {
      "cell_type": "code",
      "source": [],
      "metadata": {
        "id": "uAqywY5aGaYo"
      },
      "execution_count": null,
      "outputs": []
    },
    {
      "cell_type": "code",
      "source": [],
      "metadata": {
        "id": "rnUH82mFGabf"
      },
      "execution_count": null,
      "outputs": []
    },
    {
      "cell_type": "code",
      "source": [],
      "metadata": {
        "id": "1fBQsRWpGafC"
      },
      "execution_count": null,
      "outputs": []
    }
  ]
}