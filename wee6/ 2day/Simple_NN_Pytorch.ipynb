{
  "nbformat": 4,
  "nbformat_minor": 0,
  "metadata": {
    "colab": {
      "provenance": [],
      "include_colab_link": true
    },
    "kernelspec": {
      "name": "python3",
      "display_name": "Python 3"
    },
    "language_info": {
      "name": "python"
    }
  },
  "cells": [
    {
      "cell_type": "markdown",
      "metadata": {
        "id": "view-in-github",
        "colab_type": "text"
      },
      "source": [
        "<a href=\"https://colab.research.google.com/github/Martine1grace/NLP_FELLOWSHIP_AI-Machine_Translation.-/blob/main/wee6/%202day/Simple_NN_Pytorch.ipynb\" target=\"_parent\"><img src=\"https://colab.research.google.com/assets/colab-badge.svg\" alt=\"Open In Colab\"/></a>"
      ]
    },
    {
      "cell_type": "code",
      "source": [
        "!pip install sklearn torch matplotlib"
      ],
      "metadata": {
        "id": "lfUt5Errj0HB"
      },
      "execution_count": null,
      "outputs": []
    },
    {
      "cell_type": "code",
      "execution_count": null,
      "metadata": {
        "id": "K1u9OftXjCZJ"
      },
      "outputs": [],
      "source": [
        "from sklearn.datasets import make_classification\n",
        "import numpy as np"
      ]
    },
    {
      "cell_type": "code",
      "source": [
        "X, Y = make_classification(\n",
        "    n_features=4, n_redundant=0, n_informative=3, n_clusters_per_class=2, n_classes=3\n",
        ")"
      ],
      "metadata": {
        "id": "1R4l5438kDU-"
      },
      "execution_count": null,
      "outputs": []
    },
    {
      "cell_type": "code",
      "source": [
        "import matplotlib.pyplot as plt"
      ],
      "metadata": {
        "id": "EMa-GdfLka-h"
      },
      "execution_count": null,
      "outputs": []
    },
    {
      "cell_type": "code",
      "source": [
        "plt.title(\"Multi-class data, 4 informative featues and 3 classes\", fontsize=\"large\")\n",
        "plt.scatter(X[:,0], X[:,1], marker=\"o\", c=Y, s=25, edgecolor=\"k\")"
      ],
      "metadata": {
        "colab": {
          "base_uri": "https://localhost:8080/",
          "height": 298
        },
        "id": "DUQ1bh0Ikj9g",
        "outputId": "be131e04-c90d-4990-e55b-63bdb8870b95"
      },
      "execution_count": null,
      "outputs": [
        {
          "output_type": "execute_result",
          "data": {
            "text/plain": [
              "<matplotlib.collections.PathCollection at 0x7fcd60dfa910>"
            ]
          },
          "metadata": {},
          "execution_count": 8
        },
        {
          "output_type": "display_data",
          "data": {
            "text/plain": [
              "<Figure size 432x288 with 1 Axes>"
            ],
            "image/png": "[encoded data removed]"
          },
          "metadata": {
            "needs_background": "light"
          }
        }
      ]
    },
    {
      "cell_type": "code",
      "source": [
        "from sklearn.model_selection import train_test_split\n",
        "\n",
        "X_train, X_test, Y_train, Y_test = train_test_split(X, Y, test_size=0.2, random_state=42)"
      ],
      "metadata": {
        "id": "uIO66WDZlAn6"
      },
      "execution_count": null,
      "outputs": []
    },
    {
      "cell_type": "code",
      "source": [
        "X_train, X_test, Y_train, Y_test"
      ],
      "metadata": {
        "id": "bKykYE2olc-l"
      },
      "execution_count": null,
      "outputs": []
    },
    {
      "cell_type": "code",
      "source": [
        "len(X_train[0]) #Input Shape"
      ],
      "metadata": {
        "colab": {
          "base_uri": "https://localhost:8080/"
        },
        "id": "TaHPsJGjm1cz",
        "outputId": "6af054ff-86dd-4bd8-8a91-fcb0701eaf6d"
      },
      "execution_count": null,
      "outputs": [
        {
          "output_type": "execute_result",
          "data": {
            "text/plain": [
              "4"
            ]
          },
          "metadata": {},
          "execution_count": 14
        }
      ]
    },
    {
      "cell_type": "code",
      "source": [
        "len(set(Y_train)) #Output classes/shape"
      ],
      "metadata": {
        "colab": {
          "base_uri": "https://localhost:8080/"
        },
        "id": "8c6GpednpQip",
        "outputId": "76e7b1e2-b1fb-4e0b-8503-63a5a4fc0dbe"
      },
      "execution_count": null,
      "outputs": [
        {
          "output_type": "execute_result",
          "data": {
            "text/plain": [
              "3"
            ]
          },
          "metadata": {},
          "execution_count": 23
        }
      ]
    },
    {
      "cell_type": "code",
      "source": [
        "import torch\n",
        "from torch.utils.data import Dataset, DataLoader"
      ],
      "metadata": {
        "id": "updh5duQl9vd"
      },
      "execution_count": null,
      "outputs": []
    },
    {
      "cell_type": "code",
      "source": [
        "#Construction of a dataset class\n",
        "class Data(Dataset):\n",
        "  def __init__(self):\n",
        "    self.X = torch.from_numpy(X_train) #Pass the X/Or Input variables\n",
        "    self.Y = torch.from_numpy(Y_train) #Pass the Y/Label \n",
        "    self.len = self.X.shape[0] #Equal to 4\n",
        "\n",
        "  def __getitem__(self, index):\n",
        "    return self.X[index], self.Y[index]\n",
        "\n",
        "  def __len__(self):\n",
        "    return self.len\n",
        "\n",
        "data = Data()\n",
        "loader=DataLoader(dataset=data, batch_size=64)"
      ],
      "metadata": {
        "id": "hiE8TortmC5U"
      },
      "execution_count": null,
      "outputs": []
    },
    {
      "cell_type": "code",
      "source": [
        "input_shape = len(X_train[0]) #Shape of the input"
      ],
      "metadata": {
        "id": "IHPD7ySzonYV"
      },
      "execution_count": null,
      "outputs": []
    },
    {
      "cell_type": "code",
      "source": [
        "num_classes = len(set(Y_train)) #Output classes/shape"
      ],
      "metadata": {
        "id": "GnFxE0eephmj"
      },
      "execution_count": null,
      "outputs": []
    },
    {
      "cell_type": "code",
      "source": [
        "#Neural Network Hyperparamters\n",
        "\n",
        "batch_size = 64\n",
        "lr = 1e-3\n",
        "epochs = 5\n",
        "input_dim = input_shape#Shape of the input data or 4\n",
        "hidden_dim = 24\n",
        "output_dim = num_classes"
      ],
      "metadata": {
        "id": "KFFLMbxVn8fs"
      },
      "execution_count": null,
      "outputs": []
    },
    {
      "cell_type": "code",
      "source": [
        "from torch import nn"
      ],
      "metadata": {
        "id": "S6IX-EcBpvzG"
      },
      "execution_count": null,
      "outputs": []
    },
    {
      "cell_type": "code",
      "source": [
        "class Net(nn.Module):\n",
        "  def __init__(self, hidden_dim, input_dim=input_shape, output_dim=num_classes):\n",
        "    super(Net, self ).__init__() #Initialise the neural network class\n",
        "    #Create the layers\n",
        "    #model.layer(Dense(3, input_shape=5, )) #Keras way\n",
        "    self.layer_1 = nn.Linear(input_dim, hidden_dim)\n",
        "    self.layer_2 = nn.Linear(hidden_dim, output_dim)\n",
        "\n",
        "\n",
        "  def forward(self, X):\n",
        "    layer_1_forward = self.layer_1(X) #Forward the data into the 1st hidden layer\n",
        "    layer_1_output = torch.sigmoid(layer_1_forward) #Pass the out of the 1st hidden layer into the sigmoid activation function\n",
        "    output_layer_2 =self.layer_2(layer_1_output) #forward the data into the 2nd hidden layer\n",
        "    return output_layer_2\n"
      ],
      "metadata": {
        "id": "aZ-3zhG5p1mO"
      },
      "execution_count": null,
      "outputs": []
    },
    {
      "cell_type": "code",
      "source": [
        "clf = Net( hidden_dim, input_dim, output_dim)"
      ],
      "metadata": {
        "id": "c3DZgVUqu3cR"
      },
      "execution_count": null,
      "outputs": []
    },
    {
      "cell_type": "code",
      "source": [
        "print(clf.parameters)"
      ],
      "metadata": {
        "colab": {
          "base_uri": "https://localhost:8080/"
        },
        "id": "F9QiQ1s4vR1y",
        "outputId": "6ac04893-ee9b-4946-c06e-cf9067b1d4dc"
      },
      "execution_count": null,
      "outputs": [
        {
          "output_type": "stream",
          "name": "stdout",
          "text": [
            "<bound method Module.parameters of Net(\n",
            "  (layer_1): Linear(in_features=4, out_features=24, bias=True)\n",
            "  (layer_2): Linear(in_features=24, out_features=3, bias=True)\n",
            ")>\n"
          ]
        }
      ]
    },
    {
      "cell_type": "code",
      "source": [
        "criterion = nn.CrossEntropyLoss() #loss function\n",
        "optimizer = torch.optim.SGD(clf.parameters(), lr=0.1) #optimizer"
      ],
      "metadata": {
        "id": "AAVBCOmqvg9B"
      },
      "execution_count": null,
      "outputs": []
    },
    {
      "cell_type": "code",
      "source": [],
      "metadata": {
        "id": "A88Oaqso1YBu"
      },
      "execution_count": null,
      "outputs": []
    },
    {
      "cell_type": "code",
      "source": [
        "learning_rate =  lr\n",
        "loss_list = [] #Record each loss in each epoch\n",
        "\n",
        "for epoch in range(epochs):\n",
        "  y_pred = clf(data.X.float()) #Forward the data to the output layer\n",
        "  loss = criterion(y_pred, data.Y)     #calculate the difference between the Ypred:prediction and the Y:Target\n",
        "  loss_list.append(loss.item()) #add the loss metric to the list\n",
        "  clf.zero_grad() # reset the gradient descent algorithm\n",
        "  loss.backward() #backward propagation\n",
        "  with torch.no_grad():\n",
        "    for param in clf.parameters():\n",
        "      param = param - (learning_rate * param.grad)"
      ],
      "metadata": {
        "id": "LZLFD8wcvg2D"
      },
      "execution_count": null,
      "outputs": []
    },
    {
      "cell_type": "code",
      "source": [
        "loss_list[0]"
      ],
      "metadata": {
        "colab": {
          "base_uri": "https://localhost:8080/"
        },
        "id": "UvHWmgcR22e8",
        "outputId": "a5ce4bcc-1c7f-4bf7-85a9-ebb79d570d7e"
      },
      "execution_count": null,
      "outputs": [
        {
          "output_type": "execute_result",
          "data": {
            "text/plain": [
              "1.0930578708648682"
            ]
          },
          "metadata": {},
          "execution_count": 55
        }
      ]
    },
    {
      "cell_type": "code",
      "source": [
        "step = np.linspace(0, epochs, epochs)\n",
        "plt.plot(step, np.array(loss_list))"
      ],
      "metadata": {
        "colab": {
          "base_uri": "https://localhost:8080/",
          "height": 282
        },
        "id": "TnLkqcNT1Grs",
        "outputId": "56cd3e7d-9e58-433a-bdd0-619df539dfaa"
      },
      "execution_count": null,
      "outputs": [
        {
          "output_type": "execute_result",
          "data": {
            "text/plain": [
              "[<matplotlib.lines.Line2D at 0x7fcce9098050>]"
            ]
          },
          "metadata": {},
          "execution_count": 67
        },
        {
          "output_type": "display_data",
          "data": {
            "text/plain": [
              "<Figure size 432x288 with 1 Axes>"
            ],
            "image/png": "[encoded data removed]"
          },
          "metadata": {
            "needs_background": "light"
          }
        }
      ]
    },
    {
      "cell_type": "code",
      "source": [],
      "metadata": {
        "id": "1gEZDjZs33qI"
      },
      "execution_count": null,
      "outputs": []
    }
  ]
}