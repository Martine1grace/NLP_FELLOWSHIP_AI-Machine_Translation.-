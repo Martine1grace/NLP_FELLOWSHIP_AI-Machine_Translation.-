{
  "nbformat": 4,
  "nbformat_minor": 0,
  "metadata": {
    "colab": {
      "provenance": [],
      "collapsed_sections": [],
      "include_colab_link": true
    },
    "kernelspec": {
      "name": "python3",
      "display_name": "Python 3"
    },
    "language_info": {
      "name": "python"
    }
  },
  "cells": [
    {
      "cell_type": "markdown",
      "metadata": {
        "id": "view-in-github",
        "colab_type": "text"
      },
      "source": [
        "<a href=\"https://colab.research.google.com/github/Martine1grace/NLP_FELLOWSHIP_AI-Machine_Translation.-/blob/main/Week3/pythonPractice.ipynb\" target=\"_parent\"><img src=\"https://colab.research.google.com/assets/colab-badge.svg\" alt=\"Open In Colab\"/></a>"
      ]
    },
    {
      "cell_type": "markdown",
      "source": [
        "## Practical\n",
        "\n",
        "# Write up to any lines of code in python which show that you have advanced/intermidiate skills in the language | note that it doesn't have to be running | or follow a systematic logic | using some known python packages in machine learning is a plus | the code will be assesssed by reading through so the code doesn't have to run with error free"
      ],
      "metadata": {
        "id": "2z4eNpqfJrrk"
      }
    },
    {
      "cell_type": "code",
      "source": [
        "print(\"hello programmer !!\")"
      ],
      "metadata": {
        "id": "oostKWZaJu2v"
      },
      "execution_count": null,
      "outputs": []
    },
    {
      "cell_type": "code",
      "source": [
        "a=33\n",
        "b=330\n",
        "if b>a:\n",
        "  print(\"b is greater than a !\")"
      ],
      "metadata": {
        "id": "UXqOcH7-KY85"
      },
      "execution_count": null,
      "outputs": []
    },
    {
      "cell_type": "code",
      "source": [
        "x=min(5,6,8,2,7)\n",
        "y=max(88,55,33,90)\n",
        "print(x)\n",
        "print(y)"
      ],
      "metadata": {
        "id": "MdoouwoJKZnB"
      },
      "execution_count": null,
      "outputs": []
    },
    {
      "cell_type": "code",
      "source": [
        "import math\n",
        "\n",
        "x=math.ceil(3.6)\n",
        "y=math.floor(3.6)\n",
        "print(y)\n",
        "print(x)"
      ],
      "metadata": {
        "id": "eWgy41vyL7MA"
      },
      "execution_count": null,
      "outputs": []
    },
    {
      "cell_type": "code",
      "source": [
        "fruits=['banana','peneaple','ananas','mango']\n",
        "for x in fruits:\n",
        "  print(x)"
      ],
      "metadata": {
        "id": "dGFcaCQdL7eI"
      },
      "execution_count": null,
      "outputs": []
    },
    {
      "cell_type": "code",
      "source": [
        "def my_function():\n",
        "  print(\"hello function !\")\n",
        "my_function()"
      ],
      "metadata": {
        "id": "Qa-9N4VAL7s7"
      },
      "execution_count": null,
      "outputs": []
    },
    {
      "cell_type": "code",
      "source": [
        "def my_name(fname):\n",
        "  print(\"HATEGEKIMANA\"+\" \"+fname)\n",
        "my_name(\"MartineGrace\")"
      ],
      "metadata": {
        "id": "NiBopps0OoFc"
      },
      "execution_count": null,
      "outputs": []
    },
    {
      "cell_type": "code",
      "source": [
        "import re\n",
        "\n",
        "txt=\"The third world was began in 2021\"\n",
        "x=re.search(\"\\s\",txt)\n",
        "print(\"the first white space is on position:\",x.start())"
      ],
      "metadata": {
        "id": "aQmLJKUMRDv0"
      },
      "execution_count": null,
      "outputs": []
    },
    {
      "cell_type": "code",
      "source": [
        "import pandas as pd\n",
        "\n",
        "details = {\n",
        "    'Name' : ['Anita','felix','grece','blenda', 'louange', 'sylvain', 'blese','manzi','maxime','bella'],\n",
        "    'Age' : [34, 35, 36, 37,40,23,24,25,26,17],\n",
        "    'University' : ['iprc-kitabi','iprc-ngoma','iprc-kigali','UTAB','KIST','englan', 'india', 'auk', 'uk', 'ulk'],\n",
        "}\n",
        "df=pd.DataFrame(details)\n",
        "print(df)"
      ],
      "metadata": {
        "colab": {
          "base_uri": "https://localhost:8080/"
        },
        "id": "Ah-hxsxiTrkl",
        "outputId": "ad87ad8b-d444-4356-e0f1-398f56ff8d72"
      },
      "execution_count": null,
      "outputs": [
        {
          "output_type": "stream",
          "name": "stdout",
          "text": [
            "      Name  Age   University\n",
            "0    Anita   34  iprc-kitabi\n",
            "1    felix   35   iprc-ngoma\n",
            "2    grece   36  iprc-kigali\n",
            "3   blenda   37         UTAB\n",
            "4  louange   40         KIST\n",
            "5  sylvain   23       englan\n",
            "6    blese   24        india\n",
            "7    manzi   25          auk\n",
            "8   maxime   26           uk\n",
            "9    bella   17          ulk\n"
          ]
        }
      ]
    },
    {
      "cell_type": "code",
      "source": [
        "import json\n",
        "\n",
        "x={\"name\":\"grace\",\n",
        "   \"age\":\"45\",\n",
        "   \"city\":\"kigali\"\n",
        "   }\n",
        "y=json.dumps(x)\n",
        "print(y)"
      ],
      "metadata": {
        "id": "mkZ1pElVWtPL"
      },
      "execution_count": null,
      "outputs": []
    },
    {
      "cell_type": "code",
      "source": [
        "username=input('enter your name')\n",
        "print('your name is :'+username)"
      ],
      "metadata": {
        "colab": {
          "base_uri": "https://localhost:8080/"
        },
        "id": "bOC8mbhAYrrt",
        "outputId": "b4d45982-f4df-4b5a-bec5-b57fe3f18f0e"
      },
      "execution_count": null,
      "outputs": [
        {
          "output_type": "stream",
          "name": "stdout",
          "text": [
            "enter your namegggg\n",
            "your name is :gggg\n"
          ]
        }
      ]
    },
    {
      "cell_type": "code",
      "source": [
        "print(df.loc[1])"
      ],
      "metadata": {
        "colab": {
          "base_uri": "https://localhost:8080/"
        },
        "id": "Dsjgl5PPaGp5",
        "outputId": "e3f85cda-46b6-4f98-a2c2-25fc41613357"
      },
      "execution_count": null,
      "outputs": [
        {
          "output_type": "stream",
          "name": "stdout",
          "text": [
            "Name               felix\n",
            "Age                   35\n",
            "University    iprc-ngoma\n",
            "Name: 1, dtype: object\n"
          ]
        }
      ]
    },
    {
      "cell_type": "code",
      "source": [
        "import numpy as np\n",
        "\n",
        "arr=np.array((1,2,3,4,5,6,7,8))\n",
        "print(arr)"
      ],
      "metadata": {
        "colab": {
          "base_uri": "https://localhost:8080/"
        },
        "id": "16FFrQPgaRx8",
        "outputId": "15806566-55d2-4920-ccf4-35077e8d56a0"
      },
      "execution_count": null,
      "outputs": [
        {
          "output_type": "stream",
          "name": "stdout",
          "text": [
            "[1 2 3 4 5 6 7 8]\n"
          ]
        }
      ]
    },
    {
      "cell_type": "code",
      "source": [
        "print(arr.dtype)"
      ],
      "metadata": {
        "id": "VW46G0Z8c_8A"
      },
      "execution_count": null,
      "outputs": []
    },
    {
      "cell_type": "code",
      "source": [],
      "metadata": {
        "id": "4Px9UnKwev-c"
      },
      "execution_count": null,
      "outputs": []
    }
  ]
}